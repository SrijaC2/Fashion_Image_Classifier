{
  "nbformat": 4,
  "nbformat_minor": 0,
  "metadata": {
    "colab": {
      "provenance": [],
      "authorship_tag": "ABX9TyOy8v+SHUR9llz115JlJEvW",
      "include_colab_link": true
    },
    "kernelspec": {
      "name": "python3",
      "display_name": "Python 3"
    },
    "language_info": {
      "name": "python"
    },
    "accelerator": "GPU",
    "gpuClass": "standard"
  },
  "cells": [
    {
      "cell_type": "markdown",
      "metadata": {
        "id": "view-in-github",
        "colab_type": "text"
      },
      "source": [
        "<a href=\"https://colab.research.google.com/github/SrijaC2/Fashion_Image_Classifier/blob/main/2nd_Major_Project.ipynb\" target=\"_parent\"><img src=\"https://colab.research.google.com/assets/colab-badge.svg\" alt=\"Open In Colab\"/></a>"
      ]
    },
    {
      "cell_type": "code",
      "execution_count": null,
      "metadata": {
        "id": "LuRjd_1WnoMb"
      },
      "outputs": [],
      "source": [
        "import tensorflow as tf"
      ]
    },
    {
      "cell_type": "code",
      "source": [
        "(x_train, y_train), (x_test, y_test) = tf.keras.datasets.fashion_mnist.load_data()"
      ],
      "metadata": {
        "colab": {
          "base_uri": "https://localhost:8080/"
        },
        "id": "dN2MxucaAtxb",
        "outputId": "b3a82fdd-0e2a-4d3c-8e19-d6a7556ff061"
      },
      "execution_count": null,
      "outputs": [
        {
          "output_type": "stream",
          "name": "stdout",
          "text": [
            "Downloading data from https://storage.googleapis.com/tensorflow/tf-keras-datasets/train-labels-idx1-ubyte.gz\n",
            "29515/29515 [==============================] - 0s 1us/step\n",
            "Downloading data from https://storage.googleapis.com/tensorflow/tf-keras-datasets/train-images-idx3-ubyte.gz\n",
            "26421880/26421880 [==============================] - 2s 0us/step\n",
            "Downloading data from https://storage.googleapis.com/tensorflow/tf-keras-datasets/t10k-labels-idx1-ubyte.gz\n",
            "5148/5148 [==============================] - 0s 0us/step\n",
            "Downloading data from https://storage.googleapis.com/tensorflow/tf-keras-datasets/t10k-images-idx3-ubyte.gz\n",
            "4422102/4422102 [==============================] - 1s 0us/step\n"
          ]
        }
      ]
    },
    {
      "cell_type": "code",
      "source": [
        "print(x_train.shape)\n",
        "print(x_test.shape)"
      ],
      "metadata": {
        "colab": {
          "base_uri": "https://localhost:8080/"
        },
        "id": "0Z7b1dwDBC8z",
        "outputId": "aa96db24-39b2-4114-a6ec-ddd57b7fbd82"
      },
      "execution_count": null,
      "outputs": [
        {
          "output_type": "stream",
          "name": "stdout",
          "text": [
            "(60000, 28, 28)\n",
            "(10000, 28, 28)\n"
          ]
        }
      ]
    },
    {
      "cell_type": "code",
      "source": [
        "label = ['T-shirt/top','Trouser','Pullover','Dress','Coat','Sandal','Shirt','Sneaker','Bag','Ankle boot']"
      ],
      "metadata": {
        "id": "o0g6O2wUIV1G"
      },
      "execution_count": null,
      "outputs": []
    },
    {
      "cell_type": "code",
      "source": [
        "import matplotlib.pyplot as plt\n",
        "import numpy as np\n",
        "i = np.random.randint(0,50000)\n",
        "op = label[y_train[i]]\n",
        "plt.imshow(x_train[i])\n",
        "plt.title(f\"Output is {op}\")\n",
        "plt.show()"
      ],
      "metadata": {
        "colab": {
          "base_uri": "https://localhost:8080/",
          "height": 452
        },
        "id": "y2_nIzDlJLXT",
        "outputId": "2a5ba6b7-d52f-40cf-ca00-8268550d6fd2"
      },
      "execution_count": null,
      "outputs": [
        {
          "output_type": "display_data",
          "data": {
            "text/plain": [
              "<Figure size 640x480 with 1 Axes>"
            ],
            "image/png": "[encoded data removed]"
          },
          "metadata": {}
        }
      ]
    },
    {
      "cell_type": "code",
      "source": [
        "x_train[0].max()"
      ],
      "metadata": {
        "colab": {
          "base_uri": "https://localhost:8080/"
        },
        "id": "NRX42zByJMVX",
        "outputId": "be1a1e21-3414-44b4-9629-7abf292a2135"
      },
      "execution_count": null,
      "outputs": [
        {
          "output_type": "execute_result",
          "data": {
            "text/plain": [
              "255"
            ]
          },
          "metadata": {},
          "execution_count": 7
        }
      ]
    },
    {
      "cell_type": "code",
      "source": [
        "x_train[0].min()"
      ],
      "metadata": {
        "colab": {
          "base_uri": "https://localhost:8080/"
        },
        "id": "vRpQlxoaJ3w9",
        "outputId": "9a3b9a7a-aa5d-450d-cb64-8944a40d5b73"
      },
      "execution_count": null,
      "outputs": [
        {
          "output_type": "execute_result",
          "data": {
            "text/plain": [
              "0"
            ]
          },
          "metadata": {},
          "execution_count": 8
        }
      ]
    },
    {
      "cell_type": "code",
      "source": [
        "x_train = x_train.astype(\"float32\") / 255\n",
        "x_test = x_test.astype(\"float32\") / 255"
      ],
      "metadata": {
        "id": "F6DEl2_zJ6mN"
      },
      "execution_count": null,
      "outputs": []
    },
    {
      "cell_type": "code",
      "source": [
        "cnn1 = tf.keras.Sequential()\n",
        "cnn1.add(tf.keras.layers.Conv2D(28,kernel_size=(3,3),activation='relu',input_shape=(28,28,1)))\n",
        "cnn1.add(tf.keras.layers.MaxPooling2D(pool_size=(2, 2)))\n",
        "cnn1.add(tf.keras.layers.Conv2D(56,kernel_size=(3,3),activation='relu'))\n",
        "cnn1.add(tf.keras.layers.MaxPooling2D(pool_size=(2, 2)))\n",
        "cnn1.add(tf.keras.layers.Conv2D(28,kernel_size=(3,3),activation='relu'))\n",
        "cnn1.add(tf.keras.layers.Flatten())\n",
        "cnn1.add(tf.keras.layers.Dropout(0.5))\n",
        "cnn1.add(tf.keras.layers.Dense(56,activation='relu'))\n",
        "cnn1.add(tf.keras.layers.Dense(10,activation='softmax'))"
      ],
      "metadata": {
        "id": "rBC7EVGVJ93v"
      },
      "execution_count": null,
      "outputs": []
    },
    {
      "cell_type": "code",
      "source": [
        "cnn1.summary()"
      ],
      "metadata": {
        "colab": {
          "base_uri": "https://localhost:8080/"
        },
        "id": "IH6-PXFeTrqr",
        "outputId": "fab347e8-372b-4f0a-af28-b2944487b57e"
      },
      "execution_count": null,
      "outputs": [
        {
          "output_type": "stream",
          "name": "stdout",
          "text": [
            "Model: \"sequential\"\n",
            "_________________________________________________________________\n",
            " Layer (type)                Output Shape              Param #   \n",
            "=================================================================\n",
            " conv2d (Conv2D)             (None, 26, 26, 28)        280       \n",
            "                                                                 \n",
            " max_pooling2d (MaxPooling2D  (None, 13, 13, 28)       0         \n",
            " )                                                               \n",
            "                                                                 \n",
            " conv2d_1 (Conv2D)           (None, 11, 11, 56)        14168     \n",
            "                                                                 \n",
            " max_pooling2d_1 (MaxPooling  (None, 5, 5, 56)         0         \n",
            " 2D)                                                             \n",
            "                                                                 \n",
            " conv2d_2 (Conv2D)           (None, 3, 3, 28)          14140     \n",
            "                                                                 \n",
            " flatten (Flatten)           (None, 252)               0         \n",
            "                                                                 \n",
            " dropout (Dropout)           (None, 252)               0         \n",
            "                                                                 \n",
            " dense (Dense)               (None, 56)                14168     \n",
            "                                                                 \n",
            " dense_1 (Dense)             (None, 10)                570       \n",
            "                                                                 \n",
            "=================================================================\n",
            "Total params: 43,326\n",
            "Trainable params: 43,326\n",
            "Non-trainable params: 0\n",
            "_________________________________________________________________\n"
          ]
        }
      ]
    },
    {
      "cell_type": "code",
      "source": [
        "cnn1.compile(optimizer='adam',loss=tf.keras.losses.SparseCategoricalCrossentropy(),\n",
        "              metrics=['accuracy'])"
      ],
      "metadata": {
        "id": "JDCfp542KS1n"
      },
      "execution_count": null,
      "outputs": []
    },
    {
      "cell_type": "code",
      "source": [
        "callback = tf.keras.callbacks.EarlyStopping(patience=5)\n",
        "history = cnn1.fit(x_train, y_train, batch_size=100, epochs=100, validation_split=0.1,callbacks=callback)\n"
      ],
      "metadata": {
        "colab": {
          "base_uri": "https://localhost:8080/"
        },
        "id": "Kk4ywzvoKf0u",
        "outputId": "6d2f984f-6037-4053-9b24-e6c96cc065d7"
      },
      "execution_count": null,
      "outputs": [
        {
          "output_type": "stream",
          "name": "stdout",
          "text": [
            "Epoch 1/100\n",
            "540/540 [==============================] - 13s 5ms/step - loss: 0.7742 - accuracy: 0.7116 - val_loss: 0.4781 - val_accuracy: 0.8130\n",
            "Epoch 2/100\n",
            "540/540 [==============================] - 3s 5ms/step - loss: 0.5151 - accuracy: 0.8095 - val_loss: 0.4269 - val_accuracy: 0.8350\n",
            "Epoch 3/100\n",
            "540/540 [==============================] - 2s 4ms/step - loss: 0.4484 - accuracy: 0.8340 - val_loss: 0.3620 - val_accuracy: 0.8635\n",
            "Epoch 4/100\n",
            "540/540 [==============================] - 2s 4ms/step - loss: 0.4064 - accuracy: 0.8518 - val_loss: 0.3418 - val_accuracy: 0.8715\n",
            "Epoch 5/100\n",
            "540/540 [==============================] - 2s 4ms/step - loss: 0.3740 - accuracy: 0.8642 - val_loss: 0.3165 - val_accuracy: 0.8805\n",
            "Epoch 6/100\n",
            "540/540 [==============================] - 2s 4ms/step - loss: 0.3541 - accuracy: 0.8721 - val_loss: 0.2993 - val_accuracy: 0.8912\n",
            "Epoch 7/100\n",
            "540/540 [==============================] - 3s 6ms/step - loss: 0.3343 - accuracy: 0.8791 - val_loss: 0.2831 - val_accuracy: 0.8947\n",
            "Epoch 8/100\n",
            "540/540 [==============================] - 2s 4ms/step - loss: 0.3238 - accuracy: 0.8827 - val_loss: 0.2853 - val_accuracy: 0.8932\n",
            "Epoch 9/100\n",
            "540/540 [==============================] - 2s 4ms/step - loss: 0.3106 - accuracy: 0.8867 - val_loss: 0.2769 - val_accuracy: 0.8943\n",
            "Epoch 10/100\n",
            "540/540 [==============================] - 2s 4ms/step - loss: 0.3047 - accuracy: 0.8880 - val_loss: 0.2618 - val_accuracy: 0.9033\n",
            "Epoch 11/100\n",
            "540/540 [==============================] - 2s 4ms/step - loss: 0.2921 - accuracy: 0.8944 - val_loss: 0.2567 - val_accuracy: 0.9027\n",
            "Epoch 12/100\n",
            "540/540 [==============================] - 3s 5ms/step - loss: 0.2846 - accuracy: 0.8960 - val_loss: 0.2691 - val_accuracy: 0.8977\n",
            "Epoch 13/100\n",
            "540/540 [==============================] - 2s 4ms/step - loss: 0.2803 - accuracy: 0.8969 - val_loss: 0.2426 - val_accuracy: 0.9117\n",
            "Epoch 14/100\n",
            "540/540 [==============================] - 2s 4ms/step - loss: 0.2727 - accuracy: 0.8991 - val_loss: 0.2538 - val_accuracy: 0.9063\n",
            "Epoch 15/100\n",
            "540/540 [==============================] - 2s 4ms/step - loss: 0.2668 - accuracy: 0.9002 - val_loss: 0.2511 - val_accuracy: 0.9088\n",
            "Epoch 16/100\n",
            "540/540 [==============================] - 2s 4ms/step - loss: 0.2630 - accuracy: 0.9022 - val_loss: 0.2476 - val_accuracy: 0.9085\n",
            "Epoch 17/100\n",
            "540/540 [==============================] - 3s 5ms/step - loss: 0.2581 - accuracy: 0.9049 - val_loss: 0.2488 - val_accuracy: 0.9092\n",
            "Epoch 18/100\n",
            "540/540 [==============================] - 2s 4ms/step - loss: 0.2525 - accuracy: 0.9074 - val_loss: 0.2476 - val_accuracy: 0.9050\n"
          ]
        }
      ]
    },
    {
      "cell_type": "code",
      "source": [
        "import matplotlib.pyplot as plt\n",
        "plt.plot(history.history['loss'])\n",
        "plt.plot(history.history['val_loss'])"
      ],
      "metadata": {
        "colab": {
          "base_uri": "https://localhost:8080/"
        },
        "id": "miIR0CfLbv46",
        "outputId": "30168fb0-fa43-4b1d-c700-669deac29349"
      },
      "execution_count": null,
      "outputs": [
        {
          "output_type": "execute_result",
          "data": {
            "text/plain": [
              "[<matplotlib.lines.Line2D at 0x7efc2c182b00>]"
            ]
          },
          "metadata": {},
          "execution_count": 14
        }
      ]
    },
    {
      "cell_type": "code",
      "source": [
        "plt.plot(history.history['accuracy'])\n",
        "plt.plot(history.history['val_accuracy'])"
      ],
      "metadata": {
        "colab": {
          "base_uri": "https://localhost:8080/",
          "height": 283
        },
        "id": "VUyJStQVbwsZ",
        "outputId": "78e60e71-1ce8-42cb-c6cc-26ade8fbef45"
      },
      "execution_count": null,
      "outputs": [
        {
          "output_type": "execute_result",
          "data": {
            "text/plain": [
              "[<matplotlib.lines.Line2D at 0x7f352a019310>]"
            ]
          },
          "metadata": {},
          "execution_count": 14
        },
        {
          "output_type": "display_data",
          "data": {
            "text/plain": [
              "<Figure size 432x288 with 1 Axes>"
            ],
            "image/png": "[encoded data removed]"
          },
          "metadata": {
            "needs_background": "light"
          }
        }
      ]
    },
    {
      "cell_type": "code",
      "source": [
        "score = cnn1.evaluate(x_test, y_test, verbose=0)\n",
        "print(\"Test loss:\", score[0])\n",
        "print(\"Test accuracy:\", score[1])"
      ],
      "metadata": {
        "colab": {
          "base_uri": "https://localhost:8080/"
        },
        "id": "kzPIq9-2b5FC",
        "outputId": "527a423a-6881-4af4-ad0a-ca8fe2361846"
      },
      "execution_count": null,
      "outputs": [
        {
          "output_type": "stream",
          "name": "stdout",
          "text": [
            "Test loss: 0.2418418526649475\n",
            "Test accuracy: 0.9146000146865845\n"
          ]
        }
      ]
    }
  ]
}